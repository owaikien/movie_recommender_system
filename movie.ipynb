{
 "cells": [
  {
   "attachments": {},
   "cell_type": "markdown",
   "metadata": {},
   "source": [
    "The point of this notebook is to build a movie recommender systems based on movie genres and ratings \n",
    "\n",
    "Dataset from MovieLens: https://grouplens.org/datasets/movielens/latest/"
   ]
  },
  {
   "cell_type": "code",
   "execution_count": 2,
   "metadata": {},
   "outputs": [],
   "source": [
    "# load libraries\n",
    "import pandas as pd\n",
    "import matplotlib.pyplot as plt\n",
    "import numpy as np\n",
    "import seaborn as sns"
   ]
  },
  {
   "attachments": {},
   "cell_type": "markdown",
   "metadata": {},
   "source": [
    "## Data reading and EDA"
   ]
  },
  {
   "cell_type": "code",
   "execution_count": 33,
   "metadata": {},
   "outputs": [],
   "source": [
    "def summary(df):\n",
    "    print (f\"shape of data: {df.shape}\")\n",
    "    sum = pd.DataFrame(df.dtypes, columns=['data type'])\n",
    "    sum['#missing'] = df.isnull().sum().values\n",
    "    sum['%missing'] = df.isnull().sum().values / len(df)\n",
    "    sum['unique'] = df.nunique().values\n",
    "\n",
    "    # add statistics\n",
    "    desc = pd.DataFrame(df.describe(include='all').transpose())\n",
    "    sum['mean'] = desc['mean'].values\n",
    "    sum['std'] = desc['std'].values\n",
    "    sum['min'] = desc['min'].values\n",
    "    sum['25%'] = desc['25%'].values\n",
    "    sum['50%'] = desc['50%'].values\n",
    "    sum['75%'] = desc['75%'].values\n",
    "    sum['max'] = desc['max'].values\n",
    "\n",
    "    return sum"
   ]
  },
  {
   "cell_type": "code",
   "execution_count": 49,
   "metadata": {},
   "outputs": [],
   "source": [
    "links = pd.read_csv(\"links.csv\")\n",
    "movies = pd.read_csv('movies.csv')\n",
    "ratings = pd.read_csv('ratings.csv')\n",
    "tags = pd.read_csv('tags.csv')"
   ]
  },
  {
   "cell_type": "code",
   "execution_count": 25,
   "metadata": {},
   "outputs": [
    {
     "name": "stdout",
     "output_type": "stream",
     "text": [
      "shape of data: (9742, 3)\n"
     ]
    },
    {
     "data": {
      "text/html": [
       "<style type=\"text/css\">\n",
       "#T_0c34f_row0_col1, #T_0c34f_row0_col2, #T_0c34f_row0_col4, #T_0c34f_row0_col5, #T_0c34f_row0_col6, #T_0c34f_row0_col7, #T_0c34f_row0_col8, #T_0c34f_row0_col10, #T_0c34f_row1_col1, #T_0c34f_row1_col2, #T_0c34f_row2_col3, #T_0c34f_row2_col6, #T_0c34f_row2_col9 {\n",
       "  background-color: #ffffe5;\n",
       "  color: #000000;\n",
       "}\n",
       "#T_0c34f_row0_col3, #T_0c34f_row1_col3, #T_0c34f_row1_col4, #T_0c34f_row1_col5, #T_0c34f_row1_col6, #T_0c34f_row1_col7, #T_0c34f_row1_col8, #T_0c34f_row1_col9, #T_0c34f_row1_col10, #T_0c34f_row2_col1, #T_0c34f_row2_col2 {\n",
       "  background-color: #662506;\n",
       "  color: #f1f1f1;\n",
       "}\n",
       "#T_0c34f_row0_col9, #T_0c34f_row2_col5, #T_0c34f_row2_col10 {\n",
       "  background-color: #fffcd8;\n",
       "  color: #000000;\n",
       "}\n",
       "#T_0c34f_row2_col4 {\n",
       "  background-color: #fffedf;\n",
       "  color: #000000;\n",
       "}\n",
       "#T_0c34f_row2_col7 {\n",
       "  background-color: #fffbcf;\n",
       "  color: #000000;\n",
       "}\n",
       "#T_0c34f_row2_col8 {\n",
       "  background-color: #fffbd3;\n",
       "  color: #000000;\n",
       "}\n",
       "</style>\n",
       "<table id=\"T_0c34f\">\n",
       "  <thead>\n",
       "    <tr>\n",
       "      <th class=\"blank level0\" >&nbsp;</th>\n",
       "      <th id=\"T_0c34f_level0_col0\" class=\"col_heading level0 col0\" >data type</th>\n",
       "      <th id=\"T_0c34f_level0_col1\" class=\"col_heading level0 col1\" >#missing</th>\n",
       "      <th id=\"T_0c34f_level0_col2\" class=\"col_heading level0 col2\" >%missing</th>\n",
       "      <th id=\"T_0c34f_level0_col3\" class=\"col_heading level0 col3\" >unique</th>\n",
       "      <th id=\"T_0c34f_level0_col4\" class=\"col_heading level0 col4\" >mean</th>\n",
       "      <th id=\"T_0c34f_level0_col5\" class=\"col_heading level0 col5\" >std</th>\n",
       "      <th id=\"T_0c34f_level0_col6\" class=\"col_heading level0 col6\" >min</th>\n",
       "      <th id=\"T_0c34f_level0_col7\" class=\"col_heading level0 col7\" >25%</th>\n",
       "      <th id=\"T_0c34f_level0_col8\" class=\"col_heading level0 col8\" >50%</th>\n",
       "      <th id=\"T_0c34f_level0_col9\" class=\"col_heading level0 col9\" >75%</th>\n",
       "      <th id=\"T_0c34f_level0_col10\" class=\"col_heading level0 col10\" >max</th>\n",
       "    </tr>\n",
       "  </thead>\n",
       "  <tbody>\n",
       "    <tr>\n",
       "      <th id=\"T_0c34f_level0_row0\" class=\"row_heading level0 row0\" >movieId</th>\n",
       "      <td id=\"T_0c34f_row0_col0\" class=\"data row0 col0\" >int64</td>\n",
       "      <td id=\"T_0c34f_row0_col1\" class=\"data row0 col1\" >0</td>\n",
       "      <td id=\"T_0c34f_row0_col2\" class=\"data row0 col2\" >0.000000</td>\n",
       "      <td id=\"T_0c34f_row0_col3\" class=\"data row0 col3\" >9742</td>\n",
       "      <td id=\"T_0c34f_row0_col4\" class=\"data row0 col4\" >42200.353623</td>\n",
       "      <td id=\"T_0c34f_row0_col5\" class=\"data row0 col5\" >52160.494854</td>\n",
       "      <td id=\"T_0c34f_row0_col6\" class=\"data row0 col6\" >1.000000</td>\n",
       "      <td id=\"T_0c34f_row0_col7\" class=\"data row0 col7\" >3248.250000</td>\n",
       "      <td id=\"T_0c34f_row0_col8\" class=\"data row0 col8\" >7300.000000</td>\n",
       "      <td id=\"T_0c34f_row0_col9\" class=\"data row0 col9\" >76232.000000</td>\n",
       "      <td id=\"T_0c34f_row0_col10\" class=\"data row0 col10\" >193609.000000</td>\n",
       "    </tr>\n",
       "    <tr>\n",
       "      <th id=\"T_0c34f_level0_row1\" class=\"row_heading level0 row1\" >imdbId</th>\n",
       "      <td id=\"T_0c34f_row1_col0\" class=\"data row1 col0\" >int64</td>\n",
       "      <td id=\"T_0c34f_row1_col1\" class=\"data row1 col1\" >0</td>\n",
       "      <td id=\"T_0c34f_row1_col2\" class=\"data row1 col2\" >0.000000</td>\n",
       "      <td id=\"T_0c34f_row1_col3\" class=\"data row1 col3\" >9742</td>\n",
       "      <td id=\"T_0c34f_row1_col4\" class=\"data row1 col4\" >677183.898173</td>\n",
       "      <td id=\"T_0c34f_row1_col5\" class=\"data row1 col5\" >1107227.576760</td>\n",
       "      <td id=\"T_0c34f_row1_col6\" class=\"data row1 col6\" >417.000000</td>\n",
       "      <td id=\"T_0c34f_row1_col7\" class=\"data row1 col7\" >95180.750000</td>\n",
       "      <td id=\"T_0c34f_row1_col8\" class=\"data row1 col8\" >167260.500000</td>\n",
       "      <td id=\"T_0c34f_row1_col9\" class=\"data row1 col9\" >805568.500000</td>\n",
       "      <td id=\"T_0c34f_row1_col10\" class=\"data row1 col10\" >8391976.000000</td>\n",
       "    </tr>\n",
       "    <tr>\n",
       "      <th id=\"T_0c34f_level0_row2\" class=\"row_heading level0 row2\" >tmdbId</th>\n",
       "      <td id=\"T_0c34f_row2_col0\" class=\"data row2 col0\" >float64</td>\n",
       "      <td id=\"T_0c34f_row2_col1\" class=\"data row2 col1\" >8</td>\n",
       "      <td id=\"T_0c34f_row2_col2\" class=\"data row2 col2\" >0.000821</td>\n",
       "      <td id=\"T_0c34f_row2_col3\" class=\"data row2 col3\" >9733</td>\n",
       "      <td id=\"T_0c34f_row2_col4\" class=\"data row2 col4\" >55162.123793</td>\n",
       "      <td id=\"T_0c34f_row2_col5\" class=\"data row2 col5\" >93653.481487</td>\n",
       "      <td id=\"T_0c34f_row2_col6\" class=\"data row2 col6\" >2.000000</td>\n",
       "      <td id=\"T_0c34f_row2_col7\" class=\"data row2 col7\" >9665.500000</td>\n",
       "      <td id=\"T_0c34f_row2_col8\" class=\"data row2 col8\" >16529.000000</td>\n",
       "      <td id=\"T_0c34f_row2_col9\" class=\"data row2 col9\" >44205.750000</td>\n",
       "      <td id=\"T_0c34f_row2_col10\" class=\"data row2 col10\" >525662.000000</td>\n",
       "    </tr>\n",
       "  </tbody>\n",
       "</table>\n"
      ],
      "text/plain": [
       "<pandas.io.formats.style.Styler at 0x109924520>"
      ]
     },
     "execution_count": 25,
     "metadata": {},
     "output_type": "execute_result"
    }
   ],
   "source": [
    "summary(links).style.background_gradient(cmap='YlOrBr')"
   ]
  },
  {
   "attachments": {},
   "cell_type": "markdown",
   "metadata": {},
   "source": [
    "there are some missing values for `tmdbld` variable "
   ]
  },
  {
   "cell_type": "code",
   "execution_count": 7,
   "metadata": {},
   "outputs": [
    {
     "name": "stdout",
     "output_type": "stream",
     "text": [
      "shape of data: (9742, 3)\n"
     ]
    },
    {
     "data": {
      "text/html": [
       "<style type=\"text/css\">\n",
       "#T_882ad_row0_col1, #T_882ad_row0_col2, #T_882ad_row1_col1, #T_882ad_row1_col2, #T_882ad_row2_col1, #T_882ad_row2_col2, #T_882ad_row2_col3 {\n",
       "  background-color: #ffffe5;\n",
       "  color: #000000;\n",
       "}\n",
       "#T_882ad_row0_col3, #T_882ad_row1_col3 {\n",
       "  background-color: #662506;\n",
       "  color: #f1f1f1;\n",
       "}\n",
       "</style>\n",
       "<table id=\"T_882ad\">\n",
       "  <thead>\n",
       "    <tr>\n",
       "      <th class=\"blank level0\" >&nbsp;</th>\n",
       "      <th id=\"T_882ad_level0_col0\" class=\"col_heading level0 col0\" >data type</th>\n",
       "      <th id=\"T_882ad_level0_col1\" class=\"col_heading level0 col1\" >#missing</th>\n",
       "      <th id=\"T_882ad_level0_col2\" class=\"col_heading level0 col2\" >%missing</th>\n",
       "      <th id=\"T_882ad_level0_col3\" class=\"col_heading level0 col3\" >unique</th>\n",
       "      <th id=\"T_882ad_level0_col4\" class=\"col_heading level0 col4\" >mean</th>\n",
       "      <th id=\"T_882ad_level0_col5\" class=\"col_heading level0 col5\" >std</th>\n",
       "      <th id=\"T_882ad_level0_col6\" class=\"col_heading level0 col6\" >min</th>\n",
       "      <th id=\"T_882ad_level0_col7\" class=\"col_heading level0 col7\" >25%</th>\n",
       "      <th id=\"T_882ad_level0_col8\" class=\"col_heading level0 col8\" >50%</th>\n",
       "      <th id=\"T_882ad_level0_col9\" class=\"col_heading level0 col9\" >75%</th>\n",
       "      <th id=\"T_882ad_level0_col10\" class=\"col_heading level0 col10\" >max</th>\n",
       "    </tr>\n",
       "  </thead>\n",
       "  <tbody>\n",
       "    <tr>\n",
       "      <th id=\"T_882ad_level0_row0\" class=\"row_heading level0 row0\" >movieId</th>\n",
       "      <td id=\"T_882ad_row0_col0\" class=\"data row0 col0\" >int64</td>\n",
       "      <td id=\"T_882ad_row0_col1\" class=\"data row0 col1\" >0</td>\n",
       "      <td id=\"T_882ad_row0_col2\" class=\"data row0 col2\" >0.000000</td>\n",
       "      <td id=\"T_882ad_row0_col3\" class=\"data row0 col3\" >9742</td>\n",
       "      <td id=\"T_882ad_row0_col4\" class=\"data row0 col4\" >42200.353623</td>\n",
       "      <td id=\"T_882ad_row0_col5\" class=\"data row0 col5\" >52160.494854</td>\n",
       "      <td id=\"T_882ad_row0_col6\" class=\"data row0 col6\" >1.000000</td>\n",
       "      <td id=\"T_882ad_row0_col7\" class=\"data row0 col7\" >3248.250000</td>\n",
       "      <td id=\"T_882ad_row0_col8\" class=\"data row0 col8\" >7300.000000</td>\n",
       "      <td id=\"T_882ad_row0_col9\" class=\"data row0 col9\" >76232.000000</td>\n",
       "      <td id=\"T_882ad_row0_col10\" class=\"data row0 col10\" >193609.000000</td>\n",
       "    </tr>\n",
       "    <tr>\n",
       "      <th id=\"T_882ad_level0_row1\" class=\"row_heading level0 row1\" >title</th>\n",
       "      <td id=\"T_882ad_row1_col0\" class=\"data row1 col0\" >object</td>\n",
       "      <td id=\"T_882ad_row1_col1\" class=\"data row1 col1\" >0</td>\n",
       "      <td id=\"T_882ad_row1_col2\" class=\"data row1 col2\" >0.000000</td>\n",
       "      <td id=\"T_882ad_row1_col3\" class=\"data row1 col3\" >9737</td>\n",
       "      <td id=\"T_882ad_row1_col4\" class=\"data row1 col4\" >nan</td>\n",
       "      <td id=\"T_882ad_row1_col5\" class=\"data row1 col5\" >nan</td>\n",
       "      <td id=\"T_882ad_row1_col6\" class=\"data row1 col6\" >nan</td>\n",
       "      <td id=\"T_882ad_row1_col7\" class=\"data row1 col7\" >nan</td>\n",
       "      <td id=\"T_882ad_row1_col8\" class=\"data row1 col8\" >nan</td>\n",
       "      <td id=\"T_882ad_row1_col9\" class=\"data row1 col9\" >nan</td>\n",
       "      <td id=\"T_882ad_row1_col10\" class=\"data row1 col10\" >nan</td>\n",
       "    </tr>\n",
       "    <tr>\n",
       "      <th id=\"T_882ad_level0_row2\" class=\"row_heading level0 row2\" >genres</th>\n",
       "      <td id=\"T_882ad_row2_col0\" class=\"data row2 col0\" >object</td>\n",
       "      <td id=\"T_882ad_row2_col1\" class=\"data row2 col1\" >0</td>\n",
       "      <td id=\"T_882ad_row2_col2\" class=\"data row2 col2\" >0.000000</td>\n",
       "      <td id=\"T_882ad_row2_col3\" class=\"data row2 col3\" >951</td>\n",
       "      <td id=\"T_882ad_row2_col4\" class=\"data row2 col4\" >nan</td>\n",
       "      <td id=\"T_882ad_row2_col5\" class=\"data row2 col5\" >nan</td>\n",
       "      <td id=\"T_882ad_row2_col6\" class=\"data row2 col6\" >nan</td>\n",
       "      <td id=\"T_882ad_row2_col7\" class=\"data row2 col7\" >nan</td>\n",
       "      <td id=\"T_882ad_row2_col8\" class=\"data row2 col8\" >nan</td>\n",
       "      <td id=\"T_882ad_row2_col9\" class=\"data row2 col9\" >nan</td>\n",
       "      <td id=\"T_882ad_row2_col10\" class=\"data row2 col10\" >nan</td>\n",
       "    </tr>\n",
       "  </tbody>\n",
       "</table>\n"
      ],
      "text/plain": [
       "<pandas.io.formats.style.Styler at 0x11dd5abc0>"
      ]
     },
     "execution_count": 7,
     "metadata": {},
     "output_type": "execute_result"
    }
   ],
   "source": [
    "summary(movies).style.background_gradient(cmap='YlOrBr')"
   ]
  },
  {
   "cell_type": "code",
   "execution_count": 8,
   "metadata": {},
   "outputs": [
    {
     "name": "stdout",
     "output_type": "stream",
     "text": [
      "shape of data: (100836, 4)\n"
     ]
    },
    {
     "data": {
      "text/html": [
       "<style type=\"text/css\">\n",
       "#T_4c92c_row0_col1, #T_4c92c_row0_col2, #T_4c92c_row0_col4, #T_4c92c_row0_col5, #T_4c92c_row0_col6, #T_4c92c_row0_col7, #T_4c92c_row0_col8, #T_4c92c_row0_col9, #T_4c92c_row0_col10, #T_4c92c_row1_col1, #T_4c92c_row1_col2, #T_4c92c_row1_col4, #T_4c92c_row1_col5, #T_4c92c_row1_col6, #T_4c92c_row1_col7, #T_4c92c_row1_col8, #T_4c92c_row1_col9, #T_4c92c_row1_col10, #T_4c92c_row2_col1, #T_4c92c_row2_col2, #T_4c92c_row2_col3, #T_4c92c_row2_col4, #T_4c92c_row2_col5, #T_4c92c_row2_col6, #T_4c92c_row2_col7, #T_4c92c_row2_col8, #T_4c92c_row2_col9, #T_4c92c_row2_col10, #T_4c92c_row3_col1, #T_4c92c_row3_col2 {\n",
       "  background-color: #ffffe5;\n",
       "  color: #000000;\n",
       "}\n",
       "#T_4c92c_row0_col3 {\n",
       "  background-color: #ffffe4;\n",
       "  color: #000000;\n",
       "}\n",
       "#T_4c92c_row1_col3 {\n",
       "  background-color: #fff8c0;\n",
       "  color: #000000;\n",
       "}\n",
       "#T_4c92c_row3_col3, #T_4c92c_row3_col4, #T_4c92c_row3_col5, #T_4c92c_row3_col6, #T_4c92c_row3_col7, #T_4c92c_row3_col8, #T_4c92c_row3_col9, #T_4c92c_row3_col10 {\n",
       "  background-color: #662506;\n",
       "  color: #f1f1f1;\n",
       "}\n",
       "</style>\n",
       "<table id=\"T_4c92c\">\n",
       "  <thead>\n",
       "    <tr>\n",
       "      <th class=\"blank level0\" >&nbsp;</th>\n",
       "      <th id=\"T_4c92c_level0_col0\" class=\"col_heading level0 col0\" >data type</th>\n",
       "      <th id=\"T_4c92c_level0_col1\" class=\"col_heading level0 col1\" >#missing</th>\n",
       "      <th id=\"T_4c92c_level0_col2\" class=\"col_heading level0 col2\" >%missing</th>\n",
       "      <th id=\"T_4c92c_level0_col3\" class=\"col_heading level0 col3\" >unique</th>\n",
       "      <th id=\"T_4c92c_level0_col4\" class=\"col_heading level0 col4\" >mean</th>\n",
       "      <th id=\"T_4c92c_level0_col5\" class=\"col_heading level0 col5\" >std</th>\n",
       "      <th id=\"T_4c92c_level0_col6\" class=\"col_heading level0 col6\" >min</th>\n",
       "      <th id=\"T_4c92c_level0_col7\" class=\"col_heading level0 col7\" >25%</th>\n",
       "      <th id=\"T_4c92c_level0_col8\" class=\"col_heading level0 col8\" >50%</th>\n",
       "      <th id=\"T_4c92c_level0_col9\" class=\"col_heading level0 col9\" >75%</th>\n",
       "      <th id=\"T_4c92c_level0_col10\" class=\"col_heading level0 col10\" >max</th>\n",
       "    </tr>\n",
       "  </thead>\n",
       "  <tbody>\n",
       "    <tr>\n",
       "      <th id=\"T_4c92c_level0_row0\" class=\"row_heading level0 row0\" >userId</th>\n",
       "      <td id=\"T_4c92c_row0_col0\" class=\"data row0 col0\" >int64</td>\n",
       "      <td id=\"T_4c92c_row0_col1\" class=\"data row0 col1\" >0</td>\n",
       "      <td id=\"T_4c92c_row0_col2\" class=\"data row0 col2\" >0.000000</td>\n",
       "      <td id=\"T_4c92c_row0_col3\" class=\"data row0 col3\" >610</td>\n",
       "      <td id=\"T_4c92c_row0_col4\" class=\"data row0 col4\" >326.127564</td>\n",
       "      <td id=\"T_4c92c_row0_col5\" class=\"data row0 col5\" >182.618491</td>\n",
       "      <td id=\"T_4c92c_row0_col6\" class=\"data row0 col6\" >1.000000</td>\n",
       "      <td id=\"T_4c92c_row0_col7\" class=\"data row0 col7\" >177.000000</td>\n",
       "      <td id=\"T_4c92c_row0_col8\" class=\"data row0 col8\" >325.000000</td>\n",
       "      <td id=\"T_4c92c_row0_col9\" class=\"data row0 col9\" >477.000000</td>\n",
       "      <td id=\"T_4c92c_row0_col10\" class=\"data row0 col10\" >610.000000</td>\n",
       "    </tr>\n",
       "    <tr>\n",
       "      <th id=\"T_4c92c_level0_row1\" class=\"row_heading level0 row1\" >movieId</th>\n",
       "      <td id=\"T_4c92c_row1_col0\" class=\"data row1 col0\" >int64</td>\n",
       "      <td id=\"T_4c92c_row1_col1\" class=\"data row1 col1\" >0</td>\n",
       "      <td id=\"T_4c92c_row1_col2\" class=\"data row1 col2\" >0.000000</td>\n",
       "      <td id=\"T_4c92c_row1_col3\" class=\"data row1 col3\" >9724</td>\n",
       "      <td id=\"T_4c92c_row1_col4\" class=\"data row1 col4\" >19435.295718</td>\n",
       "      <td id=\"T_4c92c_row1_col5\" class=\"data row1 col5\" >35530.987199</td>\n",
       "      <td id=\"T_4c92c_row1_col6\" class=\"data row1 col6\" >1.000000</td>\n",
       "      <td id=\"T_4c92c_row1_col7\" class=\"data row1 col7\" >1199.000000</td>\n",
       "      <td id=\"T_4c92c_row1_col8\" class=\"data row1 col8\" >2991.000000</td>\n",
       "      <td id=\"T_4c92c_row1_col9\" class=\"data row1 col9\" >8122.000000</td>\n",
       "      <td id=\"T_4c92c_row1_col10\" class=\"data row1 col10\" >193609.000000</td>\n",
       "    </tr>\n",
       "    <tr>\n",
       "      <th id=\"T_4c92c_level0_row2\" class=\"row_heading level0 row2\" >rating</th>\n",
       "      <td id=\"T_4c92c_row2_col0\" class=\"data row2 col0\" >float64</td>\n",
       "      <td id=\"T_4c92c_row2_col1\" class=\"data row2 col1\" >0</td>\n",
       "      <td id=\"T_4c92c_row2_col2\" class=\"data row2 col2\" >0.000000</td>\n",
       "      <td id=\"T_4c92c_row2_col3\" class=\"data row2 col3\" >10</td>\n",
       "      <td id=\"T_4c92c_row2_col4\" class=\"data row2 col4\" >3.501557</td>\n",
       "      <td id=\"T_4c92c_row2_col5\" class=\"data row2 col5\" >1.042529</td>\n",
       "      <td id=\"T_4c92c_row2_col6\" class=\"data row2 col6\" >0.500000</td>\n",
       "      <td id=\"T_4c92c_row2_col7\" class=\"data row2 col7\" >3.000000</td>\n",
       "      <td id=\"T_4c92c_row2_col8\" class=\"data row2 col8\" >3.500000</td>\n",
       "      <td id=\"T_4c92c_row2_col9\" class=\"data row2 col9\" >4.000000</td>\n",
       "      <td id=\"T_4c92c_row2_col10\" class=\"data row2 col10\" >5.000000</td>\n",
       "    </tr>\n",
       "    <tr>\n",
       "      <th id=\"T_4c92c_level0_row3\" class=\"row_heading level0 row3\" >timestamp</th>\n",
       "      <td id=\"T_4c92c_row3_col0\" class=\"data row3 col0\" >int64</td>\n",
       "      <td id=\"T_4c92c_row3_col1\" class=\"data row3 col1\" >0</td>\n",
       "      <td id=\"T_4c92c_row3_col2\" class=\"data row3 col2\" >0.000000</td>\n",
       "      <td id=\"T_4c92c_row3_col3\" class=\"data row3 col3\" >85043</td>\n",
       "      <td id=\"T_4c92c_row3_col4\" class=\"data row3 col4\" >1205946087.368469</td>\n",
       "      <td id=\"T_4c92c_row3_col5\" class=\"data row3 col5\" >216261035.995132</td>\n",
       "      <td id=\"T_4c92c_row3_col6\" class=\"data row3 col6\" >828124615.000000</td>\n",
       "      <td id=\"T_4c92c_row3_col7\" class=\"data row3 col7\" >1019123866.000000</td>\n",
       "      <td id=\"T_4c92c_row3_col8\" class=\"data row3 col8\" >1186086662.000000</td>\n",
       "      <td id=\"T_4c92c_row3_col9\" class=\"data row3 col9\" >1435994144.500000</td>\n",
       "      <td id=\"T_4c92c_row3_col10\" class=\"data row3 col10\" >1537799250.000000</td>\n",
       "    </tr>\n",
       "  </tbody>\n",
       "</table>\n"
      ],
      "text/plain": [
       "<pandas.io.formats.style.Styler at 0x103d7bac0>"
      ]
     },
     "execution_count": 8,
     "metadata": {},
     "output_type": "execute_result"
    }
   ],
   "source": [
    "summary(ratings).style.background_gradient(cmap='YlOrBr')"
   ]
  },
  {
   "attachments": {},
   "cell_type": "markdown",
   "metadata": {},
   "source": [
    "lowest rating is 0.5, highest rating is 5 across all movies"
   ]
  },
  {
   "cell_type": "code",
   "execution_count": 9,
   "metadata": {},
   "outputs": [
    {
     "name": "stdout",
     "output_type": "stream",
     "text": [
      "shape of data: (3683, 4)\n"
     ]
    },
    {
     "data": {
      "text/html": [
       "<style type=\"text/css\">\n",
       "#T_fc592_row0_col1, #T_fc592_row0_col2, #T_fc592_row0_col3, #T_fc592_row1_col1, #T_fc592_row1_col2, #T_fc592_row2_col1, #T_fc592_row2_col2, #T_fc592_row3_col1, #T_fc592_row3_col2 {\n",
       "  background-color: #ffffe5;\n",
       "  color: #000000;\n",
       "}\n",
       "#T_fc592_row1_col3 {\n",
       "  background-color: #feaa38;\n",
       "  color: #000000;\n",
       "}\n",
       "#T_fc592_row2_col3 {\n",
       "  background-color: #fea937;\n",
       "  color: #000000;\n",
       "}\n",
       "#T_fc592_row3_col3 {\n",
       "  background-color: #662506;\n",
       "  color: #f1f1f1;\n",
       "}\n",
       "</style>\n",
       "<table id=\"T_fc592\">\n",
       "  <thead>\n",
       "    <tr>\n",
       "      <th class=\"blank level0\" >&nbsp;</th>\n",
       "      <th id=\"T_fc592_level0_col0\" class=\"col_heading level0 col0\" >data type</th>\n",
       "      <th id=\"T_fc592_level0_col1\" class=\"col_heading level0 col1\" >#missing</th>\n",
       "      <th id=\"T_fc592_level0_col2\" class=\"col_heading level0 col2\" >%missing</th>\n",
       "      <th id=\"T_fc592_level0_col3\" class=\"col_heading level0 col3\" >unique</th>\n",
       "      <th id=\"T_fc592_level0_col4\" class=\"col_heading level0 col4\" >mean</th>\n",
       "      <th id=\"T_fc592_level0_col5\" class=\"col_heading level0 col5\" >std</th>\n",
       "      <th id=\"T_fc592_level0_col6\" class=\"col_heading level0 col6\" >min</th>\n",
       "      <th id=\"T_fc592_level0_col7\" class=\"col_heading level0 col7\" >25%</th>\n",
       "      <th id=\"T_fc592_level0_col8\" class=\"col_heading level0 col8\" >50%</th>\n",
       "      <th id=\"T_fc592_level0_col9\" class=\"col_heading level0 col9\" >75%</th>\n",
       "      <th id=\"T_fc592_level0_col10\" class=\"col_heading level0 col10\" >max</th>\n",
       "    </tr>\n",
       "  </thead>\n",
       "  <tbody>\n",
       "    <tr>\n",
       "      <th id=\"T_fc592_level0_row0\" class=\"row_heading level0 row0\" >userId</th>\n",
       "      <td id=\"T_fc592_row0_col0\" class=\"data row0 col0\" >int64</td>\n",
       "      <td id=\"T_fc592_row0_col1\" class=\"data row0 col1\" >0</td>\n",
       "      <td id=\"T_fc592_row0_col2\" class=\"data row0 col2\" >0.000000</td>\n",
       "      <td id=\"T_fc592_row0_col3\" class=\"data row0 col3\" >58</td>\n",
       "      <td id=\"T_fc592_row0_col4\" class=\"data row0 col4\" >431.149335</td>\n",
       "      <td id=\"T_fc592_row0_col5\" class=\"data row0 col5\" >158.472553</td>\n",
       "      <td id=\"T_fc592_row0_col6\" class=\"data row0 col6\" >2.000000</td>\n",
       "      <td id=\"T_fc592_row0_col7\" class=\"data row0 col7\" >424.000000</td>\n",
       "      <td id=\"T_fc592_row0_col8\" class=\"data row0 col8\" >474.000000</td>\n",
       "      <td id=\"T_fc592_row0_col9\" class=\"data row0 col9\" >477.000000</td>\n",
       "      <td id=\"T_fc592_row0_col10\" class=\"data row0 col10\" >610.000000</td>\n",
       "    </tr>\n",
       "    <tr>\n",
       "      <th id=\"T_fc592_level0_row1\" class=\"row_heading level0 row1\" >movieId</th>\n",
       "      <td id=\"T_fc592_row1_col0\" class=\"data row1 col0\" >int64</td>\n",
       "      <td id=\"T_fc592_row1_col1\" class=\"data row1 col1\" >0</td>\n",
       "      <td id=\"T_fc592_row1_col2\" class=\"data row1 col2\" >0.000000</td>\n",
       "      <td id=\"T_fc592_row1_col3\" class=\"data row1 col3\" >1572</td>\n",
       "      <td id=\"T_fc592_row1_col4\" class=\"data row1 col4\" >27252.013576</td>\n",
       "      <td id=\"T_fc592_row1_col5\" class=\"data row1 col5\" >43490.558803</td>\n",
       "      <td id=\"T_fc592_row1_col6\" class=\"data row1 col6\" >1.000000</td>\n",
       "      <td id=\"T_fc592_row1_col7\" class=\"data row1 col7\" >1262.500000</td>\n",
       "      <td id=\"T_fc592_row1_col8\" class=\"data row1 col8\" >4454.000000</td>\n",
       "      <td id=\"T_fc592_row1_col9\" class=\"data row1 col9\" >39263.000000</td>\n",
       "      <td id=\"T_fc592_row1_col10\" class=\"data row1 col10\" >193565.000000</td>\n",
       "    </tr>\n",
       "    <tr>\n",
       "      <th id=\"T_fc592_level0_row2\" class=\"row_heading level0 row2\" >tag</th>\n",
       "      <td id=\"T_fc592_row2_col0\" class=\"data row2 col0\" >object</td>\n",
       "      <td id=\"T_fc592_row2_col1\" class=\"data row2 col1\" >0</td>\n",
       "      <td id=\"T_fc592_row2_col2\" class=\"data row2 col2\" >0.000000</td>\n",
       "      <td id=\"T_fc592_row2_col3\" class=\"data row2 col3\" >1589</td>\n",
       "      <td id=\"T_fc592_row2_col4\" class=\"data row2 col4\" >nan</td>\n",
       "      <td id=\"T_fc592_row2_col5\" class=\"data row2 col5\" >nan</td>\n",
       "      <td id=\"T_fc592_row2_col6\" class=\"data row2 col6\" >nan</td>\n",
       "      <td id=\"T_fc592_row2_col7\" class=\"data row2 col7\" >nan</td>\n",
       "      <td id=\"T_fc592_row2_col8\" class=\"data row2 col8\" >nan</td>\n",
       "      <td id=\"T_fc592_row2_col9\" class=\"data row2 col9\" >nan</td>\n",
       "      <td id=\"T_fc592_row2_col10\" class=\"data row2 col10\" >nan</td>\n",
       "    </tr>\n",
       "    <tr>\n",
       "      <th id=\"T_fc592_level0_row3\" class=\"row_heading level0 row3\" >timestamp</th>\n",
       "      <td id=\"T_fc592_row3_col0\" class=\"data row3 col0\" >int64</td>\n",
       "      <td id=\"T_fc592_row3_col1\" class=\"data row3 col1\" >0</td>\n",
       "      <td id=\"T_fc592_row3_col2\" class=\"data row3 col2\" >0.000000</td>\n",
       "      <td id=\"T_fc592_row3_col3\" class=\"data row3 col3\" >3411</td>\n",
       "      <td id=\"T_fc592_row3_col4\" class=\"data row3 col4\" >1320031966.823785</td>\n",
       "      <td id=\"T_fc592_row3_col5\" class=\"data row3 col5\" >172102450.437126</td>\n",
       "      <td id=\"T_fc592_row3_col6\" class=\"data row3 col6\" >1137179352.000000</td>\n",
       "      <td id=\"T_fc592_row3_col7\" class=\"data row3 col7\" >1137521216.000000</td>\n",
       "      <td id=\"T_fc592_row3_col8\" class=\"data row3 col8\" >1269832564.000000</td>\n",
       "      <td id=\"T_fc592_row3_col9\" class=\"data row3 col9\" >1498456765.500000</td>\n",
       "      <td id=\"T_fc592_row3_col10\" class=\"data row3 col10\" >1537098603.000000</td>\n",
       "    </tr>\n",
       "  </tbody>\n",
       "</table>\n"
      ],
      "text/plain": [
       "<pandas.io.formats.style.Styler at 0x12fc2ecb0>"
      ]
     },
     "execution_count": 9,
     "metadata": {},
     "output_type": "execute_result"
    }
   ],
   "source": [
    "summary(tags).style.background_gradient(cmap='YlOrBr')"
   ]
  },
  {
   "attachments": {},
   "cell_type": "markdown",
   "metadata": {},
   "source": [
    "Insights from the summary of these files:\n",
    "1. Not much missing values. Great !\n",
    "2. It seems like movie id is what we will be using to connect these tables\n",
    "3. There were quite alot of duplicates for movie Id, for now I will just drop them\n"
   ]
  },
  {
   "cell_type": "code",
   "execution_count": 50,
   "metadata": {},
   "outputs": [],
   "source": [
    "# drop duplicates\n",
    "movies.drop_duplicates(subset=['movieId'], inplace=True)\n",
    "ratings.drop_duplicates(subset=['userId', 'movieId'], inplace=True)\n",
    "tags.drop_duplicates(subset=['userId', 'movieId', 'tag'], inplace=True)"
   ]
  },
  {
   "attachments": {},
   "cell_type": "markdown",
   "metadata": {},
   "source": [
    "## Feature Engineering"
   ]
  },
  {
   "cell_type": "code",
   "execution_count": null,
   "metadata": {},
   "outputs": [],
   "source": [
    "# Extract the year of release of the movie and create a new column for it\n",
    "movies['year'] = movies['title'].str.extract(r'\\((\\d{4})\\)', expand=False)\n",
    "\n",
    "# Converet genres into a list of genres\n",
    "movies['genres'] = movies['genres'].apply(lambda x: x.split(\" | \"))\n",
    "\n",
    "# Create a new df for movie ratings, containing the movieId and its average rating\n",
    "average_ratings = ratings.groupby('movieId')['rating'].mean().reset_index()\n",
    "average_ratings.columns = ['movieId', 'average_rating']"
   ]
  },
  {
   "cell_type": "code",
   "execution_count": 53,
   "metadata": {},
   "outputs": [
    {
     "data": {
      "text/html": [
       "<div>\n",
       "<style scoped>\n",
       "    .dataframe tbody tr th:only-of-type {\n",
       "        vertical-align: middle;\n",
       "    }\n",
       "\n",
       "    .dataframe tbody tr th {\n",
       "        vertical-align: top;\n",
       "    }\n",
       "\n",
       "    .dataframe thead th {\n",
       "        text-align: right;\n",
       "    }\n",
       "</style>\n",
       "<table border=\"1\" class=\"dataframe\">\n",
       "  <thead>\n",
       "    <tr style=\"text-align: right;\">\n",
       "      <th></th>\n",
       "      <th>movieId</th>\n",
       "      <th>title</th>\n",
       "      <th>genres</th>\n",
       "      <th>year</th>\n",
       "      <th>average_rating</th>\n",
       "    </tr>\n",
       "  </thead>\n",
       "  <tbody>\n",
       "    <tr>\n",
       "      <th>0</th>\n",
       "      <td>1</td>\n",
       "      <td>Toy Story (1995)</td>\n",
       "      <td>[Adventure|Animation|Children|Comedy|Fantasy]</td>\n",
       "      <td>1995</td>\n",
       "      <td>3.920930</td>\n",
       "    </tr>\n",
       "    <tr>\n",
       "      <th>1</th>\n",
       "      <td>2</td>\n",
       "      <td>Jumanji (1995)</td>\n",
       "      <td>[Adventure|Children|Fantasy]</td>\n",
       "      <td>1995</td>\n",
       "      <td>3.431818</td>\n",
       "    </tr>\n",
       "    <tr>\n",
       "      <th>2</th>\n",
       "      <td>3</td>\n",
       "      <td>Grumpier Old Men (1995)</td>\n",
       "      <td>[Comedy|Romance]</td>\n",
       "      <td>1995</td>\n",
       "      <td>3.259615</td>\n",
       "    </tr>\n",
       "    <tr>\n",
       "      <th>3</th>\n",
       "      <td>4</td>\n",
       "      <td>Waiting to Exhale (1995)</td>\n",
       "      <td>[Comedy|Drama|Romance]</td>\n",
       "      <td>1995</td>\n",
       "      <td>2.357143</td>\n",
       "    </tr>\n",
       "    <tr>\n",
       "      <th>4</th>\n",
       "      <td>5</td>\n",
       "      <td>Father of the Bride Part II (1995)</td>\n",
       "      <td>[Comedy]</td>\n",
       "      <td>1995</td>\n",
       "      <td>3.071429</td>\n",
       "    </tr>\n",
       "  </tbody>\n",
       "</table>\n",
       "</div>"
      ],
      "text/plain": [
       "   movieId                               title  \\\n",
       "0        1                    Toy Story (1995)   \n",
       "1        2                      Jumanji (1995)   \n",
       "2        3             Grumpier Old Men (1995)   \n",
       "3        4            Waiting to Exhale (1995)   \n",
       "4        5  Father of the Bride Part II (1995)   \n",
       "\n",
       "                                          genres  year  average_rating  \n",
       "0  [Adventure|Animation|Children|Comedy|Fantasy]  1995        3.920930  \n",
       "1                   [Adventure|Children|Fantasy]  1995        3.431818  \n",
       "2                               [Comedy|Romance]  1995        3.259615  \n",
       "3                         [Comedy|Drama|Romance]  1995        2.357143  \n",
       "4                                       [Comedy]  1995        3.071429  "
      ]
     },
     "execution_count": 53,
     "metadata": {},
     "output_type": "execute_result"
    }
   ],
   "source": [
    "movies_df = movies.merge(average_ratings, on='movieId')\n",
    "movies_df.head()"
   ]
  },
  {
   "attachments": {},
   "cell_type": "markdown",
   "metadata": {},
   "source": [
    "I will just use a [jaccard similarity test](https://en.wikipedia.org/wiki/Jaccard_index) as I think using a ML model is an overkill for this simple project."
   ]
  },
  {
   "cell_type": "code",
   "execution_count": 62,
   "metadata": {},
   "outputs": [],
   "source": [
    "def jaccard_similarity(set1, set2):\n",
    "    intersection = len(set1.intersection(set2))\n",
    "    union = len(set1) + len(set2) - intersection \n",
    "    return intersection / union\n",
    "\n",
    "# genre and rating based recommendations\n",
    "def recommend_by_genres_and_ratings(genres, movies_df, top_n=10):\n",
    "    input_genres = set(genres)\n",
    "    movies_df['similarity'] = movies_df['genres'].apply(lambda x: jaccard_similarity(input_genres, set(x)))\n",
    "    return movies_df.sort_values(by=['similarity', 'average_rating'], ascending=[False, False]).head(top_n)"
   ]
  },
  {
   "attachments": {},
   "cell_type": "markdown",
   "metadata": {},
   "source": [
    "## Let's test !"
   ]
  },
  {
   "cell_type": "code",
   "execution_count": 74,
   "metadata": {},
   "outputs": [
    {
     "name": "stdout",
     "output_type": "stream",
     "text": [
      "Movie: Up, Genre: ['Drama|Romance']\n",
      "\n",
      "Recommended Movies:\n",
      "                                                  title           genres  \\\n",
      "2232  Man and a Woman, A (Un homme et une femme) (1966)  [Drama|Romance]   \n",
      "2317                              Sandpiper, The (1965)  [Drama|Romance]   \n",
      "3499  Moscow Does Not Believe in Tears (Moskva sleza...  [Drama|Romance]   \n",
      "3802                                        Rain (2001)  [Drama|Romance]   \n",
      "4103         Cruel Romance, A (Zhestokij Romans) (1984)  [Drama|Romance]   \n",
      "4245                                   Lady Jane (1986)  [Drama|Romance]   \n",
      "4667                                   Jane Eyre (1944)  [Drama|Romance]   \n",
      "5417                             Mr. Skeffington (1944)  [Drama|Romance]   \n",
      "2878  Affair of Love, An (Liaison pornographique, Un...  [Drama|Romance]   \n",
      "4946  Happy Together (a.k.a. Buenos Aires Affair) (C...  [Drama|Romance]   \n",
      "\n",
      "      average_rating  \n",
      "2232            5.00  \n",
      "2317            5.00  \n",
      "3499            5.00  \n",
      "3802            5.00  \n",
      "4103            5.00  \n",
      "4245            5.00  \n",
      "4667            5.00  \n",
      "5417            5.00  \n",
      "2878            4.75  \n",
      "4946            4.75  \n"
     ]
    }
   ],
   "source": [
    "try:\n",
    "    input_movie = 'Up'\n",
    "    input_genres = movies_df[movies_df['title'].str.contains(input_movie)]['genres'].iloc[0]\n",
    "    recommendations = recommend_by_genres_and_ratings(input_genres, movies_df)\n",
    "    print(f'Movie: {input_movie}, Genre: {input_genres}\\n')\n",
    "    print(\"Recommended Movies:\")\n",
    "    print(recommendations[['title', 'genres', 'average_rating']])\n",
    "\n",
    "# If the movie does not exists in the original list\n",
    "except ValueError and IndexError:\n",
    "    print (\"There are no related movies !\")"
   ]
  },
  {
   "attachments": {},
   "cell_type": "markdown",
   "metadata": {},
   "source": [
    "## Next Steps"
   ]
  },
  {
   "attachments": {},
   "cell_type": "markdown",
   "metadata": {},
   "source": [
    "That's it ! It's just a weekend project so I am not spending that much time on it. Some of next steps worth considering if you want to expand it include:\n",
    "1. Use the larger/full dataset.\n",
    "2. Do content-based filtering such as director, actors or other relevant keyword. Can use natural language techniques like TF-IDF.\n",
    "3. Do collaborative filtering, using past behaviour of users (their ratings or interactions) to make personalized recommendations.\n",
    "4. Combine content-based filtering and collaborative filtering (Hybrid systems).\n",
    "\n",
    "One great example is to understand how [Netflix's recommendation system](https://help.netflix.com/en/node/100639) works, which could really gives you an idea on how real-world recommendation system works."
   ]
  },
  {
   "cell_type": "markdown",
   "metadata": {},
   "source": []
  }
 ],
 "metadata": {
  "kernelspec": {
   "display_name": "Python 3",
   "language": "python",
   "name": "python3"
  },
  "language_info": {
   "codemirror_mode": {
    "name": "ipython",
    "version": 3
   },
   "file_extension": ".py",
   "mimetype": "text/x-python",
   "name": "python",
   "nbconvert_exporter": "python",
   "pygments_lexer": "ipython3",
   "version": "3.10.9"
  },
  "orig_nbformat": 4
 },
 "nbformat": 4,
 "nbformat_minor": 2
}
